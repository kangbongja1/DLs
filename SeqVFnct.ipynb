#Sque
def create_model():
  model = keras.Sequential()
  model.add(keras.layers.Conv2D(filters=32, kernel_size=3, activation=tf.nn.relu,
    padding='SAME', input_shape=(28, 28, 1)))
  model.add(keras.layers.MaxPool2D(padding='SAME'))
  model.add(keras.layers.Conv2D(filters=64, kernel_size=3, activation=tf.nn.relu,
    padding='SAME'))
  model.add(keras.layers.MaxPool2D(padding='SAME'))
  model.add(keras.layers.Conv2D(filters=128, kernel_size=3, activation=tf.nn.relu,
    padding='SAME'))
  model.add(keras.layers.MaxPool2D(padding='SAME'))
  model.add(keras.layers.Flatten())
  model.add(keras.layers.Dense(256, activation=tf.nn.relu))
  model.add(keras.layers.Dropout(0.4))
  model.add(keras.layers.Dense(10))
  return model

#Fnct
def create_model():
  inputs = keras.Input(shape=(28, 28, 1))
  conv1 = keras.layers.Conv2D(filters=32, kernel_size=3, padding='SAME',
    activation=tf.nn.relu)(inputs)
  pool1 = keras.layers.MaxPool2D(padding='SAME')(conv1)
  conv2 = keras.layers.Conv2D(filters=64, kernel_size=3, padding='SAME',
   activation=tf.nn.relu)(pool1)
  pool2 = keras.layers.MaxPool2D(padding='SAME')(conv2)
  conv3 = keras.layers.Conv2D(filters=128, kernel_size=3, padding='SAME',
    activation=tf.nn.relu)(pool2)
  pool3 = keras.layers.MaxPool2D(padding='SAME')(conv3)
  pool3_flat = keras.layers.Flatten()(pool3)
  dense4 = keras.layers.Dense(units=256, activation=tf.nn.relu)(pool3_flat)
  drop4 = keras.layers.Dropout(rate=0.4)(dense4)
  logits = keras.layers.Dense(units=10)(drop4)
  return keras.Model(inputs=inputs, outputs=logits)
